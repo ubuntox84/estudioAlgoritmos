{
 "cells": [
  {
   "cell_type": "markdown",
   "metadata": {},
   "source": [
    "##### Caso Practico 01"
   ]
  },
  {
   "cell_type": "markdown",
   "metadata": {},
   "source": [
    "Nombre: Garcia Villegas, Christian"
   ]
  },
  {
   "cell_type": "markdown",
   "metadata": {},
   "source": [
    "1.Se quiere obtener los numeros primos desde el 0 hasta el 20 utilizando el bucle while"
   ]
  },
  {
   "cell_type": "code",
   "execution_count": 1,
   "metadata": {},
   "outputs": [
    {
     "name": "stdout",
     "output_type": "stream",
     "text": [
      "2\n",
      "3\n",
      "5\n",
      "7\n",
      "11\n",
      "13\n",
      "17\n",
      "19\n"
     ]
    }
   ],
   "source": [
    "x=0\n",
    "y=21\n",
    "while x<y:\n",
    "    cont=1\n",
    "    r=1\n",
    "    while r<x:\n",
    "        if x % r==0:\n",
    "            cont+=1\n",
    "        r+=1\n",
    "    if cont==2:\n",
    "        print(x)\n",
    "    x+=1;"
   ]
  },
  {
   "cell_type": "code",
   "execution_count": 2,
   "metadata": {},
   "outputs": [
    {
     "name": "stdout",
     "output_type": "stream",
     "text": [
      "Numero primo  :   1\n",
      "Numero primo  :   2\n",
      "Numero primo  :   3\n",
      "Numero primo  :   5\n",
      "Numero primo  :   7\n",
      "Numero primo  :   11\n",
      "Numero primo  :   13\n",
      "Numero primo  :   17\n",
      "Numero primo  :   19\n"
     ]
    }
   ],
   "source": [
    "num=1\n",
    "div=1\n",
    "while num<=20:\n",
    "    cont=0\n",
    "    while div<=20:\n",
    "        if num % div==0:\n",
    "            cont+=1\n",
    "        div+=1\n",
    "    if cont<=2:\n",
    "        print (\"Numero primo  :  \",num)\n",
    "    div=1\n",
    "    cont=0\n",
    "    num+=1"
   ]
  },
  {
   "cell_type": "code",
   "execution_count": 13,
   "metadata": {},
   "outputs": [],
   "source": [
    "def funprimo(x,y):\n",
    "    #x=0\n",
    "    #y=21\n",
    "    while x<y:\n",
    "        cont=1\n",
    "        r=1\n",
    "        while r<x:\n",
    "            if x % r==0:\n",
    "                cont+=1\n",
    "            r+=1\n",
    "        if cont==2:\n",
    "            print(x)\n",
    "        x+=1;"
   ]
  },
  {
   "cell_type": "code",
   "execution_count": 14,
   "metadata": {},
   "outputs": [
    {
     "name": "stdout",
     "output_type": "stream",
     "text": [
      "2\n",
      "3\n",
      "5\n",
      "7\n",
      "11\n",
      "13\n",
      "17\n",
      "19\n"
     ]
    }
   ],
   "source": [
    "funprimo(0,21)"
   ]
  },
  {
   "cell_type": "markdown",
   "metadata": {},
   "source": [
    "2.En una encuensta realizada por el INEI se encontraron diferentes estaturas 167,178,157,189,156,169, 158,175,191,171 y se necesita mostrar el de cada uno si esta arriba del promedio general de estatura del Peru(159 cm)"
   ]
  },
  {
   "cell_type": "code",
   "execution_count": 3,
   "metadata": {},
   "outputs": [
    {
     "name": "stdout",
     "output_type": "stream",
     "text": [
      "167\n",
      "178\n",
      "189\n",
      "169\n",
      "175\n",
      "191\n",
      "171\n"
     ]
    }
   ],
   "source": [
    "prom=159 \n",
    "vect=[167,178,157,189,156,169, 158,175,191,171]\n",
    "for x in vect:\n",
    "    if(x>prom):\n",
    "        print(x)"
   ]
  },
  {
   "cell_type": "code",
   "execution_count": 15,
   "metadata": {},
   "outputs": [],
   "source": [
    "def mostrar(y):\n",
    "    #y=159 \n",
    "    for x in (167,178,157,189,156,169, 158,175,191,171):\n",
    "        if(x>y):\n",
    "            print(x)"
   ]
  },
  {
   "cell_type": "code",
   "execution_count": 16,
   "metadata": {},
   "outputs": [
    {
     "name": "stdout",
     "output_type": "stream",
     "text": [
      "167\n",
      "178\n",
      "189\n",
      "169\n",
      "175\n",
      "191\n",
      "171\n"
     ]
    }
   ],
   "source": [
    "mostrar(159)"
   ]
  },
  {
   "cell_type": "code",
   "execution_count": 3,
   "metadata": {},
   "outputs": [
    {
     "data": {
      "text/plain": [
       "['C:\\\\Users\\\\paz',\n",
       " 'C:\\\\Users\\\\paz\\\\anaconda3\\\\python37.zip',\n",
       " 'C:\\\\Users\\\\paz\\\\anaconda3\\\\DLLs',\n",
       " 'C:\\\\Users\\\\paz\\\\anaconda3\\\\lib',\n",
       " 'C:\\\\Users\\\\paz\\\\anaconda3',\n",
       " '',\n",
       " 'C:\\\\Users\\\\paz\\\\anaconda3\\\\lib\\\\site-packages',\n",
       " 'C:\\\\Users\\\\paz\\\\anaconda3\\\\lib\\\\site-packages\\\\win32',\n",
       " 'C:\\\\Users\\\\paz\\\\anaconda3\\\\lib\\\\site-packages\\\\win32\\\\lib',\n",
       " 'C:\\\\Users\\\\paz\\\\anaconda3\\\\lib\\\\site-packages\\\\Pythonwin',\n",
       " 'C:\\\\Users\\\\paz\\\\anaconda3\\\\lib\\\\site-packages\\\\IPython\\\\extensions',\n",
       " 'C:\\\\Users\\\\paz\\\\.ipython']"
      ]
     },
     "execution_count": 3,
     "metadata": {},
     "output_type": "execute_result"
    }
   ],
   "source": [
    "import sys\n",
    "sys.path"
   ]
  },
  {
   "cell_type": "code",
   "execution_count": null,
   "metadata": {},
   "outputs": [],
   "source": []
  }
 ],
 "metadata": {
  "kernelspec": {
   "display_name": "Python 3",
   "language": "python",
   "name": "python3"
  },
  "language_info": {
   "codemirror_mode": {
    "name": "ipython",
    "version": 3
   },
   "file_extension": ".py",
   "mimetype": "text/x-python",
   "name": "python",
   "nbconvert_exporter": "python",
   "pygments_lexer": "ipython3",
   "version": "3.7.6"
  }
 },
 "nbformat": 4,
 "nbformat_minor": 4
}
